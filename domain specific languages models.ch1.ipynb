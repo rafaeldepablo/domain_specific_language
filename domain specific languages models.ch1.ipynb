{
 "cells": [
  {
   "cell_type": "code",
   "execution_count": 1,
   "metadata": {},
   "outputs": [],
   "source": [
    "import pandas as pd\n",
    "import nltk\n",
    "import gzip\n",
    "import re\n",
    "import os\n",
    "from nltk.tokenize import word_tokenize"
   ]
  },
  {
   "cell_type": "code",
   "execution_count": 2,
   "metadata": {},
   "outputs": [
    {
     "name": "stderr",
     "output_type": "stream",
     "text": [
      "[nltk_data] Downloading package punkt to\n",
      "[nltk_data]     C:\\Users\\Rafael.DePabloVarona\\AppData\\Roaming\\nltk_dat\n",
      "[nltk_data]     a...\n",
      "[nltk_data]   Unzipping tokenizers\\punkt.zip.\n"
     ]
    },
    {
     "data": {
      "text/plain": [
       "True"
      ]
     },
     "execution_count": 2,
     "metadata": {},
     "output_type": "execute_result"
    }
   ],
   "source": [
    "os.getcwd()\n",
    "pd.set_option('display.max_colwidth', None)\n",
    "nltk.download('punkt')"
   ]
  },
  {
   "cell_type": "code",
   "execution_count": 3,
   "metadata": {},
   "outputs": [
    {
     "data": {
      "text/plain": [
       "Index(['post_id', 'parent_id', 'comment_id', 'text', 'category'], dtype='object')"
      ]
     },
     "execution_count": 3,
     "metadata": {},
     "output_type": "execute_result"
    }
   ],
   "source": [
    "df =pd.read_csv('./stackexchange_812k.csv.gz',compression=\"gzip\")\n",
    "df.columns"
   ]
  },
  {
   "cell_type": "code",
   "execution_count": 4,
   "metadata": {},
   "outputs": [],
   "source": [
    "matches = dict()\n",
    "matches[\"html_tags\"] =\"<[^>]*>\"\n",
    "matches[\"latex_expressions\"] =\"\\$[^\\$]*\\$\"\n",
    "matches[\"digits\"] = \"[+-]?([0-9]*[.])?[0-9]+\"\n",
    "matches[\"return\"] =\"\\\\n\"\n",
    "matches[\"mentions\"] =\"@[\\w]*\"\n",
    "matches[\"urls\"] = \"https?://[^(\\s)]*\\s\"\n",
    "matches[\"double quotes\"] = '\"'"
   ]
  },
  {
   "cell_type": "code",
   "execution_count": 22,
   "metadata": {},
   "outputs": [],
   "source": [
    "def clean_text(row):\n",
    "  text = row['text']\n",
    "  patterns =\"|\".join(list(matches.values()))\n",
    "  return re.sub(patterns,\"\", str(text))\n",
    "\n",
    "def tokenizer_row(row):\n",
    "  return word_tokenize(row['clean_text'])\n",
    "\n",
    "def tokenizer_text(clean_text):\n",
    "  return word_tokenize(clean_text)\n",
    "\n",
    "def truncate_tokens(row,min_num_tokens=6,max_num_tokens=50):\n",
    "    num_words = len(row['tokenize_clean_text'])\n",
    "    if num_words < min_num_tokens:\n",
    "        return ''\n",
    "    if num_words > max_num_tokens:\n",
    "        return row['tokenize_clean_text'][0:max_num_tokens]\n",
    "    return row['tokenize_clean_text']"
   ]
  },
  {
   "cell_type": "code",
   "execution_count": 6,
   "metadata": {},
   "outputs": [],
   "source": [
    "df['clean_text'] = df.apply(lambda row : clean_text(row), axis = 1)\n",
    "df['tokenize_clean_text'] = df.apply(lambda row : tokenizer_text(row['clean_text']), axis = 1)\n",
    "df['tokens'] = df.apply(lambda row : truncate_tokens(row), axis = 1)"
   ]
  },
  {
   "cell_type": "code",
   "execution_count": 9,
   "metadata": {},
   "outputs": [],
   "source": [
    "path = \"./clean_tokenized_stackexchange_812k.csv.zip\"\n",
    "df.to_csv(path,index=False,compression=\"zip\")"
   ]
  },
  {
   "cell_type": "code",
   "execution_count": 25,
   "metadata": {},
   "outputs": [],
   "source": []
  }
 ],
 "metadata": {
  "kernelspec": {
   "display_name": "Python 3",
   "language": "python",
   "name": "python3"
  },
  "language_info": {
   "codemirror_mode": {
    "name": "ipython",
    "version": 3
   },
   "file_extension": ".py",
   "mimetype": "text/x-python",
   "name": "python",
   "nbconvert_exporter": "python",
   "pygments_lexer": "ipython3",
   "version": "3.7.4"
  }
 },
 "nbformat": 4,
 "nbformat_minor": 2
}
